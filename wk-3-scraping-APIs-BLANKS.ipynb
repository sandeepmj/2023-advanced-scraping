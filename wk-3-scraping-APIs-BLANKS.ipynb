{
 "cells": [
  {
   "cell_type": "markdown",
   "id": "e0e5edac",
   "metadata": {
    "id": "e0e5edac"
   },
   "source": [
    "# Scraping APIs\n",
    "\n",
    "A site with an API (Application Programming Interface) wants you to scrape it.\n",
    "\n",
    "Examples abound:\n",
    "\n",
    "* <a href=\"https://www.census.gov/data/developers/data-sets.html\">U.S. Census APIs</a>\n",
    "* <a href=\"https://apps.fas.usda.gov/opendataweb/home\">US Agriculture Commodities and Exports</a>\n",
    "* <a href=\"https://www.federalregister.gov/developers/documentation/api/v1\">Federal Register</a>\n",
    "* <a href=\"https://developer.dol.gov/beginners-guide/\">Labor Department</a>\n",
    "* <a href=\"https://www.eia.gov/\">Labor Department</a>\n",
    "\n",
    "Government sites tend  ```CSVs``` for download but their APIs offer more detailed options for data. They are not trying to hide the data.\n",
    "\n",
    "Private sites might have APIs, but often charge heafty prices for access beyond a basic number of downloads.\n",
    "\n",
    "The toughest/hardest part of scraping an API is that they ***ALL HAVE DIFFERENT INSTRUCTIONS*** on how to tap their data.\n",
    "\n",
    "Today, we'll explore different APIs that each build a different skill:\n",
    "\n",
    "1. Census health data – **building a simple API call.**\n",
    "2. USDA commodities exports – **using an API key and targeting specific commodities over several years.**\n",
    "3. Federal Register – **tapping search terms.**\n",
    "4. Energy Information Administration – **dealing with pagination.**\n",
    "\n",
    "What they all have in common:\n",
    "\n",
    "1. a base url\n",
    "2. a query string\n",
    "3. tied together with a query character ```?```\n",
    "4. an API key.\n",
    "\n",
    "Combined together these are known as an ```API endpoint```.\n",
    "\n",
    "You make an ```API call``` (a request) using the ```API endpoint```.\n",
    "\n",
    "\n",
    "Today I've provided most the code, but you will have to build **your own API calls**.\n",
    "\n",
    "\n"
   ]
  },
  {
   "cell_type": "code",
   "execution_count": null,
   "id": "2b5af8cd",
   "metadata": {
    "id": "2b5af8cd"
   },
   "outputs": [],
   "source": [
    "## import libraries\n",
    "import requests\n",
    "import pandas as pd\n",
    "from icecream import ic\n",
    "\n"
   ]
  },
  {
   "cell_type": "markdown",
   "id": "cfffa300",
   "metadata": {
    "id": "cfffa300"
   },
   "source": [
    "### 1. Census health data – **building a simple API call.**\n",
    "\n",
    "- <a href=\"https://www.census.gov/data/developers/data-sets/Health-Insurance-Statistics.html\">Census health landing page</a>\n",
    "- List of <a href=\"https://api.census.gov/data/timeseries/healthins/sahie/variables.html\">possible variables</a>\n",
    "\n",
    "We want to create a dataframe with the following info for every state in 2021:\n",
    "\n",
    "1. Total number insured\n",
    "2. Percent insured\n",
    "3. Total number uninsured\n",
    "4. Percent uninsured"
   ]
  },
  {
   "cell_type": "code",
   "execution_count": null,
   "id": "e56f1f28",
   "metadata": {
    "id": "e56f1f28"
   },
   "outputs": [],
   "source": [
    "## the parts to build your API call."
   ]
  },
  {
   "cell_type": "code",
   "execution_count": null,
   "id": "d098d998",
   "metadata": {
    "id": "d098d998"
   },
   "outputs": [],
   "source": [
    "## create a dictionary to know what codes mean\n"
   ]
  },
  {
   "cell_type": "code",
   "execution_count": null,
   "id": "374779e2",
   "metadata": {
    "id": "374779e2"
   },
   "outputs": [],
   "source": [
    "## format into api query format\n",
    "get_vars = \",\".join(target_dict.keys())\n",
    "get_vars"
   ]
  },
  {
   "cell_type": "code",
   "execution_count": null,
   "id": "2f14f877",
   "metadata": {
    "id": "2f14f877"
   },
   "outputs": [],
   "source": [
    "## other targets\n"
   ]
  },
  {
   "cell_type": "code",
   "execution_count": null,
   "id": "9b269eac",
   "metadata": {
    "id": "9b269eac"
   },
   "outputs": [],
   "source": [
    "## create query string\n"
   ]
  },
  {
   "cell_type": "code",
   "execution_count": null,
   "id": "2218e0c3",
   "metadata": {
    "id": "2218e0c3"
   },
   "outputs": [],
   "source": [
    "## create full API call\n"
   ]
  },
  {
   "cell_type": "code",
   "execution_count": null,
   "id": "ddfbd7af",
   "metadata": {
    "id": "ddfbd7af"
   },
   "outputs": [],
   "source": [
    "## get response\n",
    "response = requests.get(api_call)\n",
    "\n",
    "# Check if the request was successful\n",
    "if response.status_code == 200:\n",
    "    data = response.json()\n",
    "    # Process the data as needed\n",
    "else:\n",
    "    print(f\"Failed to retrieve data. Status code: {response.status_code}\")\n"
   ]
  },
  {
   "cell_type": "code",
   "execution_count": null,
   "id": "8da550c6",
   "metadata": {
    "id": "8da550c6",
    "scrolled": true
   },
   "outputs": [],
   "source": [
    "## turn response into json\n",
    "data = response.json()\n",
    "data"
   ]
  },
  {
   "cell_type": "code",
   "execution_count": null,
   "id": "5ddd9297",
   "metadata": {
    "id": "5ddd9297"
   },
   "outputs": [],
   "source": [
    "## create dataframe\n",
    "df= pd.DataFrame(data[1:], columns = data[0])\n",
    "df"
   ]
  },
  {
   "cell_type": "code",
   "execution_count": null,
   "id": "9c126671",
   "metadata": {
    "id": "9c126671"
   },
   "outputs": [],
   "source": [
    "## rename column headers with more meaning full headers\n",
    "df.rename(columns = target_dict, inplace = True)\n",
    "df"
   ]
  },
  {
   "cell_type": "code",
   "execution_count": null,
   "id": "8049385e",
   "metadata": {
    "id": "8049385e"
   },
   "outputs": [],
   "source": [
    "## build dictionary to replace codes for race\n",
    "race_cats = {\n",
    "      \"0\": \"All Races\",\n",
    "      \"1\": \"White alone, not Hispanic or Latino\",\n",
    "      \"2\": \"Black or African American alone, not Hispanic or Latino\",\n",
    "      \"3\": \"Hispanic or Latino (any race)\",\n",
    "      \"4\": \"American Indian and Alaska Native alone, not Hispanic or Latino\",\n",
    "      \"5\": \"Asian alone, not Hispanic or Latino\",\n",
    "      \"6\": \"Native Hawaiian and Other Pacific Islander alone, not Hispanic or Latino\",\n",
    "      \"7\": \"Two or More Races, not Hispanic or Latino\"\n",
    "    }"
   ]
  },
  {
   "cell_type": "code",
   "execution_count": null,
   "id": "31daf667",
   "metadata": {
    "id": "31daf667"
   },
   "outputs": [],
   "source": [
    "## cooy race category column to be converted to description next cell\n",
    "df[\"race_description\"] = df[\"race_category\"].copy()\n",
    "df"
   ]
  },
  {
   "cell_type": "code",
   "execution_count": null,
   "id": "5fedcbba",
   "metadata": {
    "id": "5fedcbba"
   },
   "outputs": [],
   "source": [
    "## replace with codes\n",
    "df[\"race_description\"] = df[\"race_description\"].replace(race_cats)\n",
    "df"
   ]
  },
  {
   "cell_type": "markdown",
   "id": "8250f7ad",
   "metadata": {
    "id": "8250f7ad"
   },
   "source": [
    "### 2. USDA commodities exports – **using an API key and targeting specific commodities over several years.**\n",
    "\n",
    "- <a href=\"https://apps.fas.usda.gov/opendataweb/home\">USDA APIs endpoints</a>\n",
    "- Get an <a href=\"https://apps.fas.usda.gov/opendataweb/home\">API key</a>\n",
    "\n",
    "We want to create a dataframe with exports between 2020-2022 to all countries for the following commodities:\n",
    "\n",
    "1. All Wheat\n",
    "2. Oats\n",
    "3. Cuts of Beef\n",
    "4. Cuts of Pork"
   ]
  },
  {
   "cell_type": "code",
   "execution_count": null,
   "id": "1a99c3f8",
   "metadata": {
    "id": "1a99c3f8"
   },
   "outputs": [],
   "source": [
    "## find the parts to build your API call"
   ]
  },
  {
   "cell_type": "code",
   "execution_count": null,
   "id": "21b7a64b",
   "metadata": {
    "id": "21b7a64b"
   },
   "outputs": [],
   "source": [
    "## get commodities list\n"
   ]
  },
  {
   "cell_type": "code",
   "execution_count": null,
   "id": "afeb0134",
   "metadata": {
    "id": "afeb0134"
   },
   "outputs": [],
   "source": [
    "## we create a headers with your API key- use your own\n"
   ]
  },
  {
   "cell_type": "code",
   "execution_count": null,
   "id": "a46b1bab",
   "metadata": {
    "id": "a46b1bab"
   },
   "outputs": [],
   "source": [
    "## now let's put into get requests\n",
    "## we check the response status code\n",
    "response = requests.get(url = com_url, headers = headers)\n",
    "response.status_code\n",
    "all_commodities = response.json()\n",
    "all_commodities"
   ]
  },
  {
   "cell_type": "markdown",
   "id": "18cb9d75",
   "metadata": {
    "id": "18cb9d75"
   },
   "source": [
    "### Get endpoint and test out on a single commodity\n"
   ]
  },
  {
   "cell_type": "code",
   "execution_count": null,
   "id": "a027ecd6",
   "metadata": {
    "id": "a027ecd6"
   },
   "outputs": [],
   "source": [
    "## your end point here\n"
   ]
  },
  {
   "cell_type": "code",
   "execution_count": null,
   "id": "8a95e283",
   "metadata": {
    "id": "8a95e283"
   },
   "outputs": [],
   "source": [
    "## now let's put into get requests\n",
    "## we check the response status code\n",
    "response = requests.get(url = endpoint, headers = headers)\n",
    "response.status_code"
   ]
  },
  {
   "cell_type": "code",
   "execution_count": null,
   "id": "4a7d7340",
   "metadata": {
    "id": "4a7d7340"
   },
   "outputs": [],
   "source": [
    "## let's store our response into an object called data\n",
    "data = response.json()\n",
    "data[-1]"
   ]
  },
  {
   "cell_type": "code",
   "execution_count": null,
   "id": "420de3e0",
   "metadata": {
    "id": "420de3e0"
   },
   "outputs": [],
   "source": [
    "## convert that list of dicts into a dataframe called df\n",
    "df = pd.DataFrame(data)\n",
    "df"
   ]
  },
  {
   "cell_type": "code",
   "execution_count": null,
   "id": "03b9a4a5",
   "metadata": {
    "id": "03b9a4a5"
   },
   "outputs": [],
   "source": [
    "## Now iterate through all our target items\n",
    "\n",
    "commodities_dict = [{'commodityCode': 107, 'commodityName': 'All Wheat', 'unitId': 1},\n",
    "    {'commodityCode': 601, 'commodityName': 'Oats', 'unitId': 1},\n",
    "    {'commodityCode': 1701,\n",
    "  'commodityName': 'Fresh, Chilled, or Frozen Muscle Cuts of Beef',\n",
    "  'unitId': 1},\n",
    " {'commodityCode': 1702,\n",
    "  'commodityName': 'Fresh, Chilled, or Frozen Muscle Cuts of Pork',\n",
    "  'unitId': 1}]\n",
    "\n",
    "commodities_dict"
   ]
  },
  {
   "cell_type": "code",
   "execution_count": null,
   "id": "b9b37185",
   "metadata": {
    "id": "b9b37185"
   },
   "outputs": [],
   "source": [
    "## endpoint templates\n",
    "\n"
   ]
  },
  {
   "cell_type": "code",
   "execution_count": null,
   "id": "92de8c30",
   "metadata": {
    "id": "92de8c30"
   },
   "outputs": [],
   "source": [
    "## iterate to get all the data\n",
    "target_data = []\n",
    "for commodity in commodities_dict:\n",
    "#     print(commodity)\n",
    "    target_commodity = commodity.get(\"commodityCode\")\n",
    "    print(target_commodity)\n",
    "    for year in range(2020,2023):\n",
    "        print(year)\n",
    "        try:\n",
    "            endpoint = f\"{start_endpoint}{target_commodity}{end_endpoint}{year}\"\n",
    "            print(endpoint)\n",
    "            ## get response\n",
    "            response = requests.get(endpoint, headers = headers)\n",
    "            data = response.json()\n",
    "            # Process the data as needed\n",
    "            target_data.append(pd.DataFrame(response.json()))\n",
    "        except:\n",
    "            print(f\"Failed to retrieve data. Status code: {response.status_code}\")\n"
   ]
  },
  {
   "cell_type": "code",
   "execution_count": null,
   "id": "bc0cd046",
   "metadata": {
    "id": "bc0cd046"
   },
   "outputs": [],
   "source": [
    "## call list\n",
    "target_data[0]"
   ]
  },
  {
   "cell_type": "code",
   "execution_count": null,
   "id": "d9ec42c2",
   "metadata": {
    "id": "d9ec42c2"
   },
   "outputs": [],
   "source": [
    "## concat into single df\n",
    "df = pd.concat(target_data).reset_index(drop = True)\n",
    "df.info()"
   ]
  },
  {
   "cell_type": "code",
   "execution_count": null,
   "id": "a08867d7",
   "metadata": {
    "id": "a08867d7"
   },
   "outputs": [],
   "source": [
    "## call df\n",
    "df"
   ]
  },
  {
   "cell_type": "code",
   "execution_count": null,
   "id": "9af8a195",
   "metadata": {
    "id": "9af8a195"
   },
   "outputs": [],
   "source": [
    "## confirm we have all our target commodities\n",
    "list(df[\"commodityCode\"].unique())"
   ]
  },
  {
   "cell_type": "markdown",
   "id": "cac797f8",
   "metadata": {
    "id": "cac797f8"
   },
   "source": [
    "### 3. Federal Register – **tapping search terms.**\n",
    "\n",
    "We have decades of <a href=\"https://docs.google.com/spreadsheets/d/130WeumbMZjcoRP4D-1uJ7bM0aKBZzt4N/edit?usp=sharing&ouid=112307892189798608417&rtpof=true&sd=true\">SBA Excel files</a> that detail loans given to small businesses to recover after climate disasters. The only information we have about the type of disasters are codes in one of the columns that look like:\n",
    "\n",
    "- CA-00279\n",
    "- IL-00051\n",
    "- NC-00099\n",
    "\n",
    "The <a href=\"https://www.federalregister.gov/\">Federal Register</a> allows us to search for what these codes stand for. But we can't search for nearly a thousand such disaster codes. When we try to scrape the site, it warns us to use the API instead.\n",
    "\n",
    "Federal Register <a href=\"https://www.federalregister.gov/developers/documentation/api/v1#/Federal%20Register%20Documents/get_documents__format_\">API documentation</a>"
   ]
  },
  {
   "cell_type": "code",
   "execution_count": null,
   "id": "611d3f63",
   "metadata": {
    "id": "611d3f63"
   },
   "outputs": [],
   "source": [
    "## find the end point"
   ]
  },
  {
   "cell_type": "markdown",
   "id": "840dd070",
   "metadata": {
    "id": "840dd070"
   },
   "source": [
    "#### Test on single endpoint after figuring out how to build API call"
   ]
  },
  {
   "cell_type": "code",
   "execution_count": null,
   "id": "7276557c",
   "metadata": {
    "id": "7276557c"
   },
   "outputs": [],
   "source": [
    "## endpoint\n"
   ]
  },
  {
   "cell_type": "code",
   "execution_count": null,
   "id": "dbc99f2c",
   "metadata": {
    "id": "dbc99f2c"
   },
   "outputs": [],
   "source": [
    "## get data\n",
    "response = requests.get(url)\n",
    "data = response.json()\n",
    "data"
   ]
  },
  {
   "cell_type": "code",
   "execution_count": null,
   "id": "99fc4879",
   "metadata": {
    "id": "99fc4879"
   },
   "outputs": [],
   "source": [
    "## type\n",
    "type(data)"
   ]
  },
  {
   "cell_type": "code",
   "execution_count": null,
   "id": "3b71a993",
   "metadata": {
    "id": "3b71a993"
   },
   "outputs": [],
   "source": [
    "## targeting incidents\n",
    "content = data.get(\"results\")\n",
    "\n",
    "content[0].get(\"abstract\")"
   ]
  },
  {
   "cell_type": "markdown",
   "id": "57de1e1d",
   "metadata": {
    "id": "57de1e1d"
   },
   "source": [
    "### Iterate through entire list of codes"
   ]
  },
  {
   "cell_type": "code",
   "execution_count": null,
   "id": "0e3545b0",
   "metadata": {
    "id": "0e3545b0"
   },
   "outputs": [],
   "source": [
    "## Normally will take from df as a list\n",
    "## build disaster code list\n",
    "disaster_codes = [\"CA-00279\",\"IL-00051\", \"NC-00099\" ]"
   ]
  },
  {
   "cell_type": "code",
   "execution_count": null,
   "id": "9f857dff",
   "metadata": {
    "id": "9f857dff"
   },
   "outputs": [],
   "source": [
    "## provide base url\n",
    "base_url = \"https://www.federalregister.gov/api/v1/documents.json?per_page=20&conditions[docket_id]=\""
   ]
  },
  {
   "cell_type": "code",
   "execution_count": null,
   "id": "a2a5ae7e",
   "metadata": {
    "id": "a2a5ae7e"
   },
   "outputs": [],
   "source": [
    "## iterate through all endpoints\n",
    "incidents_list = []\n",
    "broken_endpoints = []\n",
    "\n",
    "for disaster_code in disaster_codes:\n",
    "    endpoint = base_url + disaster_code\n",
    "#     print(endpoint)\n",
    "    try:\n",
    "        response = requests.get(url)\n",
    "        data = response.json()\n",
    "        content = data.get(\"results\")\n",
    "        incident_text = content[0].get(\"abstract\")\n",
    "        incidents_list.append({\"disaster_code\": disaster_code,\n",
    "                         \"incident_text\": incident_text})\n",
    "    except:\n",
    "        print(f\"{disaster_code} threw an error\")\n",
    "        broken_endpoints.append(disaster_code)\n",
    "\n",
    "print(\"Done scraping endpoints\")\n"
   ]
  },
  {
   "cell_type": "code",
   "execution_count": null,
   "id": "6780bf93",
   "metadata": {
    "id": "6780bf93"
   },
   "outputs": [],
   "source": [
    "## call list\n",
    "incidents_list"
   ]
  },
  {
   "cell_type": "markdown",
   "id": "7c731d2b",
   "metadata": {
    "id": "7c731d2b"
   },
   "source": [
    "### 4. Energy Information Administration – **dealing with pagination.**\n",
    "\n",
    "From the <a href=\"https://www.eia.gov/\">Energy Information Administration</a>, we want to compile energy generation by type of fuel and region for about 5 days.\n",
    "\n",
    "We will encounter a limit on the number of items per API call.\n",
    "\n",
    "Find our API endpoint first."
   ]
  },
  {
   "cell_type": "code",
   "execution_count": null,
   "id": "b7fdf879",
   "metadata": {
    "id": "b7fdf879"
   },
   "outputs": [],
   "source": [
    "## your target endpoint\n"
   ]
  },
  {
   "cell_type": "code",
   "execution_count": null,
   "id": "9f02b00e",
   "metadata": {
    "id": "9f02b00e"
   },
   "outputs": [],
   "source": [
    "## get response\n",
    "response = requests.get(endpoint)\n",
    "data = response.json()\n",
    "data"
   ]
  },
  {
   "cell_type": "code",
   "execution_count": null,
   "id": "ca939a1a",
   "metadata": {},
   "outputs": [],
   "source": [
    "## import ceiling division from math\n",
    "\n"
   ]
  },
  {
   "cell_type": "code",
   "execution_count": null,
   "id": "ce3e4a79",
   "metadata": {
    "id": "ce3e4a79"
   },
   "outputs": [],
   "source": [
    "## paginate our API calls\n",
    "\n"
   ]
  },
  {
   "cell_type": "code",
   "execution_count": null,
   "id": "f0705b8f",
   "metadata": {
    "id": "f0705b8f"
   },
   "outputs": [],
   "source": [
    "\n",
    "all_data = []\n",
    "\n",
    "for page in range(total_pages):\n",
    "    ic(page)\n",
    "    offset = page * rows_per_page\n",
    "    api_url = f\"{endpoint}&offset={offset}&length={rows_per_page}\"\n",
    "    ic(offset)\n",
    "    # Make an API request to the constructed URL\n",
    "    response = requests.get(api_url)\n",
    "    data = response.json()\n",
    "    data\n",
    "\n",
    "    # Extract and append the data to your main data storage\n",
    "    all_data.append(data.get(\"response\").get(\"data\"))"
   ]
  },
  {
   "cell_type": "code",
   "execution_count": null,
   "id": "f8f41f74",
   "metadata": {
    "id": "f8f41f74"
   },
   "outputs": [],
   "source": [
    "## call all data\n",
    "all_data"
   ]
  },
  {
   "cell_type": "code",
   "execution_count": null,
   "id": "2cd133f4",
   "metadata": {
    "id": "2cd133f4"
   },
   "outputs": [],
   "source": [
    "## length\n",
    "len(all_data)"
   ]
  },
  {
   "cell_type": "code",
   "execution_count": null,
   "id": "5de327fd",
   "metadata": {
    "id": "5de327fd"
   },
   "outputs": [],
   "source": [
    "## use itertools to flatten list with nested lists\n",
    "import itertools"
   ]
  },
  {
   "cell_type": "code",
   "execution_count": null,
   "id": "dbbf7cb0",
   "metadata": {
    "id": "dbbf7cb0"
   },
   "outputs": [],
   "source": [
    "## flatten nested lists\n",
    "flat_data = list(itertools.chain(*all_data))\n",
    "flat_data"
   ]
  },
  {
   "cell_type": "code",
   "execution_count": null,
   "id": "1607b9dc",
   "metadata": {
    "id": "1607b9dc"
   },
   "outputs": [],
   "source": [
    "df = pd.DataFrame(flat_data)\n",
    "df"
   ]
  },
  {
   "cell_type": "code",
   "execution_count": null,
   "id": "422c99b0",
   "metadata": {
    "id": "422c99b0"
   },
   "outputs": [],
   "source": []
  },
  {
   "cell_type": "code",
   "execution_count": null,
   "id": "2367bda5",
   "metadata": {
    "id": "2367bda5"
   },
   "outputs": [],
   "source": []
  },
  {
   "cell_type": "code",
   "execution_count": null,
   "id": "1407fbd3",
   "metadata": {
    "id": "1407fbd3"
   },
   "outputs": [],
   "source": [
    "fips_codes = {\n",
    "    'Alabama': '01',\n",
    "    'Alaska': '02',\n",
    "    'Arizona': '04',\n",
    "    'Arkansas': '05',\n",
    "    'California': '06',\n",
    "    'Colorado': '08',\n",
    "    'Connecticut': '09',\n",
    "    'Delaware': '10',\n",
    "    'Florida': '12',\n",
    "    'Georgia': '13',\n",
    "    'Hawaii': '15',\n",
    "    'Idaho': '16',\n",
    "    'Illinois': '17',\n",
    "    'Indiana': '18',\n",
    "    'Iowa': '19',\n",
    "    'Kansas': '20',\n",
    "    'Kentucky': '21',\n",
    "    'Louisiana': '22',\n",
    "    'Maine': '23',\n",
    "    'Maryland': '24',\n",
    "    'Massachusetts': '25',\n",
    "    'Michigan': '26',\n",
    "    'Minnesota': '27',\n",
    "    'Mississippi': '28',\n",
    "    'Missouri': '29',\n",
    "    'Montana': '30',\n",
    "    'Nebraska': '31',\n",
    "    'Nevada': '32',\n",
    "    'New Hampshire': '33',\n",
    "    'New Jersey': '34',\n",
    "    'New Mexico': '35',\n",
    "    'New York': '36',\n",
    "    'North Carolina': '37',\n",
    "    'North Dakota': '38',\n",
    "    'Ohio': '39',\n",
    "    'Oklahoma': '40',\n",
    "    'Oregon': '41',\n",
    "    'Pennsylvania': '42',\n",
    "    'Rhode Island': '44',\n",
    "    'South Carolina': '45',\n",
    "    'South Dakota': '46',\n",
    "    'Tennessee': '47',\n",
    "    'Texas': '48',\n",
    "    'Utah': '49',\n",
    "    'Vermont': '50',\n",
    "    'Virginia': '51',\n",
    "    'Washington': '53',\n",
    "    'West Virginia': '54',\n",
    "    'Wisconsin': '55',\n",
    "    'Wyoming': '56',\n",
    "    'District of Columbia': '11',\n",
    "    'Puerto Rico': '72'\n",
    "}\n"
   ]
  }
 ],
 "metadata": {
  "celltoolbar": "Slideshow",
  "colab": {
   "provenance": []
  },
  "kernelspec": {
   "display_name": "Python 3 (ipykernel)",
   "language": "python",
   "name": "python3"
  },
  "language_info": {
   "codemirror_mode": {
    "name": "ipython",
    "version": 3
   },
   "file_extension": ".py",
   "mimetype": "text/x-python",
   "name": "python",
   "nbconvert_exporter": "python",
   "pygments_lexer": "ipython3",
   "version": "3.9.7"
  }
 },
 "nbformat": 4,
 "nbformat_minor": 5
}
